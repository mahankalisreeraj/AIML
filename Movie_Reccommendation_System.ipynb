{
  "nbformat": 4,
  "nbformat_minor": 0,
  "metadata": {
    "colab": {
      "provenance": [],
      "authorship_tag": "ABX9TyMX7CF2OzxjljLnkbXSePvR",
      "include_colab_link": true
    },
    "kernelspec": {
      "name": "python3",
      "display_name": "Python 3"
    },
    "language_info": {
      "name": "python"
    }
  },
  "cells": [
    {
      "cell_type": "markdown",
      "metadata": {
        "id": "view-in-github",
        "colab_type": "text"
      },
      "source": [
        "<a href=\"https://colab.research.google.com/github/mahankalisreeraj/AIML/blob/main/Movie_Reccommendation_System.ipynb\" target=\"_parent\"><img src=\"https://colab.research.google.com/assets/colab-badge.svg\" alt=\"Open In Colab\"/></a>"
      ]
    },
    {
      "cell_type": "markdown",
      "source": [
        "#MOVIE RECCOMMENDATION SYSTEM USING COLLABRATIVE FILTERING"
      ],
      "metadata": {
        "id": "h2I5CJYs1E-q"
      }
    },
    {
      "cell_type": "markdown",
      "source": [
        "**Importing necessary libraries**"
      ],
      "metadata": {
        "id": "uxrWOxpZ1XJD"
      }
    },
    {
      "cell_type": "code",
      "execution_count": 3,
      "metadata": {
        "id": "8qDAVD9V0YK6"
      },
      "outputs": [],
      "source": [
        "import pandas as pd\n",
        "import numpy as np\n",
        "import matplotlib.pyplot as plt\n",
        "import seaborn as sns\n",
        "%matplotlib inline"
      ]
    },
    {
      "cell_type": "markdown",
      "source": [
        "Reading the csv file using pandas library"
      ],
      "metadata": {
        "id": "2_w6e6wf1a48"
      }
    },
    {
      "cell_type": "code",
      "source": [
        "movies=pd.read_csv('netflix_data.csv')\n",
        "movies.head()"
      ],
      "metadata": {
        "colab": {
          "base_uri": "https://localhost:8080/",
          "height": 642
        },
        "id": "rFZK__oO05gI",
        "outputId": "93efd397-705a-4ea9-f7de-3db9a1d52008"
      },
      "execution_count": 4,
      "outputs": [
        {
          "output_type": "execute_result",
          "data": {
            "text/plain": [
              "  show_id     type                  title         director  \\\n",
              "0      s1    Movie   Dick Johnson Is Dead  Kirsten Johnson   \n",
              "1      s2  TV Show          Blood & Water              NaN   \n",
              "2      s3  TV Show              Ganglands  Julien Leclercq   \n",
              "3      s4  TV Show  Jailbirds New Orleans              NaN   \n",
              "4      s5  TV Show           Kota Factory              NaN   \n",
              "\n",
              "                                                cast        country  \\\n",
              "0                                                NaN  United States   \n",
              "1  Ama Qamata, Khosi Ngema, Gail Mabalane, Thaban...   South Africa   \n",
              "2  Sami Bouajila, Tracy Gotoas, Samuel Jouy, Nabi...            NaN   \n",
              "3                                                NaN            NaN   \n",
              "4  Mayur More, Jitendra Kumar, Ranjan Raj, Alam K...          India   \n",
              "\n",
              "           date_added  release_year rating   duration  \\\n",
              "0  September 25, 2021          2020  PG-13     90 min   \n",
              "1  September 24, 2021          2021  TV-MA  2 Seasons   \n",
              "2  September 24, 2021          2021  TV-MA   1 Season   \n",
              "3  September 24, 2021          2021  TV-MA   1 Season   \n",
              "4  September 24, 2021          2021  TV-MA  2 Seasons   \n",
              "\n",
              "                                           listed_in  \\\n",
              "0                                      Documentaries   \n",
              "1    International TV Shows, TV Dramas, TV Mysteries   \n",
              "2  Crime TV Shows, International TV Shows, TV Act...   \n",
              "3                             Docuseries, Reality TV   \n",
              "4  International TV Shows, Romantic TV Shows, TV ...   \n",
              "\n",
              "                                         description  \n",
              "0  As her father nears the end of his life, filmm...  \n",
              "1  After crossing paths at a party, a Cape Town t...  \n",
              "2  To protect his family from a powerful drug lor...  \n",
              "3  Feuds, flirtations and toilet talk go down amo...  \n",
              "4  In a city of coaching centers known to train I...  "
            ],
            "text/html": [
              "\n",
              "  <div id=\"df-b0db20b7-a697-445e-8165-d6c45d17cd9e\" class=\"colab-df-container\">\n",
              "    <div>\n",
              "<style scoped>\n",
              "    .dataframe tbody tr th:only-of-type {\n",
              "        vertical-align: middle;\n",
              "    }\n",
              "\n",
              "    .dataframe tbody tr th {\n",
              "        vertical-align: top;\n",
              "    }\n",
              "\n",
              "    .dataframe thead th {\n",
              "        text-align: right;\n",
              "    }\n",
              "</style>\n",
              "<table border=\"1\" class=\"dataframe\">\n",
              "  <thead>\n",
              "    <tr style=\"text-align: right;\">\n",
              "      <th></th>\n",
              "      <th>show_id</th>\n",
              "      <th>type</th>\n",
              "      <th>title</th>\n",
              "      <th>director</th>\n",
              "      <th>cast</th>\n",
              "      <th>country</th>\n",
              "      <th>date_added</th>\n",
              "      <th>release_year</th>\n",
              "      <th>rating</th>\n",
              "      <th>duration</th>\n",
              "      <th>listed_in</th>\n",
              "      <th>description</th>\n",
              "    </tr>\n",
              "  </thead>\n",
              "  <tbody>\n",
              "    <tr>\n",
              "      <th>0</th>\n",
              "      <td>s1</td>\n",
              "      <td>Movie</td>\n",
              "      <td>Dick Johnson Is Dead</td>\n",
              "      <td>Kirsten Johnson</td>\n",
              "      <td>NaN</td>\n",
              "      <td>United States</td>\n",
              "      <td>September 25, 2021</td>\n",
              "      <td>2020</td>\n",
              "      <td>PG-13</td>\n",
              "      <td>90 min</td>\n",
              "      <td>Documentaries</td>\n",
              "      <td>As her father nears the end of his life, filmm...</td>\n",
              "    </tr>\n",
              "    <tr>\n",
              "      <th>1</th>\n",
              "      <td>s2</td>\n",
              "      <td>TV Show</td>\n",
              "      <td>Blood &amp; Water</td>\n",
              "      <td>NaN</td>\n",
              "      <td>Ama Qamata, Khosi Ngema, Gail Mabalane, Thaban...</td>\n",
              "      <td>South Africa</td>\n",
              "      <td>September 24, 2021</td>\n",
              "      <td>2021</td>\n",
              "      <td>TV-MA</td>\n",
              "      <td>2 Seasons</td>\n",
              "      <td>International TV Shows, TV Dramas, TV Mysteries</td>\n",
              "      <td>After crossing paths at a party, a Cape Town t...</td>\n",
              "    </tr>\n",
              "    <tr>\n",
              "      <th>2</th>\n",
              "      <td>s3</td>\n",
              "      <td>TV Show</td>\n",
              "      <td>Ganglands</td>\n",
              "      <td>Julien Leclercq</td>\n",
              "      <td>Sami Bouajila, Tracy Gotoas, Samuel Jouy, Nabi...</td>\n",
              "      <td>NaN</td>\n",
              "      <td>September 24, 2021</td>\n",
              "      <td>2021</td>\n",
              "      <td>TV-MA</td>\n",
              "      <td>1 Season</td>\n",
              "      <td>Crime TV Shows, International TV Shows, TV Act...</td>\n",
              "      <td>To protect his family from a powerful drug lor...</td>\n",
              "    </tr>\n",
              "    <tr>\n",
              "      <th>3</th>\n",
              "      <td>s4</td>\n",
              "      <td>TV Show</td>\n",
              "      <td>Jailbirds New Orleans</td>\n",
              "      <td>NaN</td>\n",
              "      <td>NaN</td>\n",
              "      <td>NaN</td>\n",
              "      <td>September 24, 2021</td>\n",
              "      <td>2021</td>\n",
              "      <td>TV-MA</td>\n",
              "      <td>1 Season</td>\n",
              "      <td>Docuseries, Reality TV</td>\n",
              "      <td>Feuds, flirtations and toilet talk go down amo...</td>\n",
              "    </tr>\n",
              "    <tr>\n",
              "      <th>4</th>\n",
              "      <td>s5</td>\n",
              "      <td>TV Show</td>\n",
              "      <td>Kota Factory</td>\n",
              "      <td>NaN</td>\n",
              "      <td>Mayur More, Jitendra Kumar, Ranjan Raj, Alam K...</td>\n",
              "      <td>India</td>\n",
              "      <td>September 24, 2021</td>\n",
              "      <td>2021</td>\n",
              "      <td>TV-MA</td>\n",
              "      <td>2 Seasons</td>\n",
              "      <td>International TV Shows, Romantic TV Shows, TV ...</td>\n",
              "      <td>In a city of coaching centers known to train I...</td>\n",
              "    </tr>\n",
              "  </tbody>\n",
              "</table>\n",
              "</div>\n",
              "    <div class=\"colab-df-buttons\">\n",
              "\n",
              "  <div class=\"colab-df-container\">\n",
              "    <button class=\"colab-df-convert\" onclick=\"convertToInteractive('df-b0db20b7-a697-445e-8165-d6c45d17cd9e')\"\n",
              "            title=\"Convert this dataframe to an interactive table.\"\n",
              "            style=\"display:none;\">\n",
              "\n",
              "  <svg xmlns=\"http://www.w3.org/2000/svg\" height=\"24px\" viewBox=\"0 -960 960 960\">\n",
              "    <path d=\"M120-120v-720h720v720H120Zm60-500h600v-160H180v160Zm220 220h160v-160H400v160Zm0 220h160v-160H400v160ZM180-400h160v-160H180v160Zm440 0h160v-160H620v160ZM180-180h160v-160H180v160Zm440 0h160v-160H620v160Z\"/>\n",
              "  </svg>\n",
              "    </button>\n",
              "\n",
              "  <style>\n",
              "    .colab-df-container {\n",
              "      display:flex;\n",
              "      gap: 12px;\n",
              "    }\n",
              "\n",
              "    .colab-df-convert {\n",
              "      background-color: #E8F0FE;\n",
              "      border: none;\n",
              "      border-radius: 50%;\n",
              "      cursor: pointer;\n",
              "      display: none;\n",
              "      fill: #1967D2;\n",
              "      height: 32px;\n",
              "      padding: 0 0 0 0;\n",
              "      width: 32px;\n",
              "    }\n",
              "\n",
              "    .colab-df-convert:hover {\n",
              "      background-color: #E2EBFA;\n",
              "      box-shadow: 0px 1px 2px rgba(60, 64, 67, 0.3), 0px 1px 3px 1px rgba(60, 64, 67, 0.15);\n",
              "      fill: #174EA6;\n",
              "    }\n",
              "\n",
              "    .colab-df-buttons div {\n",
              "      margin-bottom: 4px;\n",
              "    }\n",
              "\n",
              "    [theme=dark] .colab-df-convert {\n",
              "      background-color: #3B4455;\n",
              "      fill: #D2E3FC;\n",
              "    }\n",
              "\n",
              "    [theme=dark] .colab-df-convert:hover {\n",
              "      background-color: #434B5C;\n",
              "      box-shadow: 0px 1px 3px 1px rgba(0, 0, 0, 0.15);\n",
              "      filter: drop-shadow(0px 1px 2px rgba(0, 0, 0, 0.3));\n",
              "      fill: #FFFFFF;\n",
              "    }\n",
              "  </style>\n",
              "\n",
              "    <script>\n",
              "      const buttonEl =\n",
              "        document.querySelector('#df-b0db20b7-a697-445e-8165-d6c45d17cd9e button.colab-df-convert');\n",
              "      buttonEl.style.display =\n",
              "        google.colab.kernel.accessAllowed ? 'block' : 'none';\n",
              "\n",
              "      async function convertToInteractive(key) {\n",
              "        const element = document.querySelector('#df-b0db20b7-a697-445e-8165-d6c45d17cd9e');\n",
              "        const dataTable =\n",
              "          await google.colab.kernel.invokeFunction('convertToInteractive',\n",
              "                                                    [key], {});\n",
              "        if (!dataTable) return;\n",
              "\n",
              "        const docLinkHtml = 'Like what you see? Visit the ' +\n",
              "          '<a target=\"_blank\" href=https://colab.research.google.com/notebooks/data_table.ipynb>data table notebook</a>'\n",
              "          + ' to learn more about interactive tables.';\n",
              "        element.innerHTML = '';\n",
              "        dataTable['output_type'] = 'display_data';\n",
              "        await google.colab.output.renderOutput(dataTable, element);\n",
              "        const docLink = document.createElement('div');\n",
              "        docLink.innerHTML = docLinkHtml;\n",
              "        element.appendChild(docLink);\n",
              "      }\n",
              "    </script>\n",
              "  </div>\n",
              "\n",
              "\n",
              "<div id=\"df-a4ceae37-143a-4a93-9109-0973bc0ff435\">\n",
              "  <button class=\"colab-df-quickchart\" onclick=\"quickchart('df-a4ceae37-143a-4a93-9109-0973bc0ff435')\"\n",
              "            title=\"Suggest charts\"\n",
              "            style=\"display:none;\">\n",
              "\n",
              "<svg xmlns=\"http://www.w3.org/2000/svg\" height=\"24px\"viewBox=\"0 0 24 24\"\n",
              "     width=\"24px\">\n",
              "    <g>\n",
              "        <path d=\"M19 3H5c-1.1 0-2 .9-2 2v14c0 1.1.9 2 2 2h14c1.1 0 2-.9 2-2V5c0-1.1-.9-2-2-2zM9 17H7v-7h2v7zm4 0h-2V7h2v10zm4 0h-2v-4h2v4z\"/>\n",
              "    </g>\n",
              "</svg>\n",
              "  </button>\n",
              "\n",
              "<style>\n",
              "  .colab-df-quickchart {\n",
              "      --bg-color: #E8F0FE;\n",
              "      --fill-color: #1967D2;\n",
              "      --hover-bg-color: #E2EBFA;\n",
              "      --hover-fill-color: #174EA6;\n",
              "      --disabled-fill-color: #AAA;\n",
              "      --disabled-bg-color: #DDD;\n",
              "  }\n",
              "\n",
              "  [theme=dark] .colab-df-quickchart {\n",
              "      --bg-color: #3B4455;\n",
              "      --fill-color: #D2E3FC;\n",
              "      --hover-bg-color: #434B5C;\n",
              "      --hover-fill-color: #FFFFFF;\n",
              "      --disabled-bg-color: #3B4455;\n",
              "      --disabled-fill-color: #666;\n",
              "  }\n",
              "\n",
              "  .colab-df-quickchart {\n",
              "    background-color: var(--bg-color);\n",
              "    border: none;\n",
              "    border-radius: 50%;\n",
              "    cursor: pointer;\n",
              "    display: none;\n",
              "    fill: var(--fill-color);\n",
              "    height: 32px;\n",
              "    padding: 0;\n",
              "    width: 32px;\n",
              "  }\n",
              "\n",
              "  .colab-df-quickchart:hover {\n",
              "    background-color: var(--hover-bg-color);\n",
              "    box-shadow: 0 1px 2px rgba(60, 64, 67, 0.3), 0 1px 3px 1px rgba(60, 64, 67, 0.15);\n",
              "    fill: var(--button-hover-fill-color);\n",
              "  }\n",
              "\n",
              "  .colab-df-quickchart-complete:disabled,\n",
              "  .colab-df-quickchart-complete:disabled:hover {\n",
              "    background-color: var(--disabled-bg-color);\n",
              "    fill: var(--disabled-fill-color);\n",
              "    box-shadow: none;\n",
              "  }\n",
              "\n",
              "  .colab-df-spinner {\n",
              "    border: 2px solid var(--fill-color);\n",
              "    border-color: transparent;\n",
              "    border-bottom-color: var(--fill-color);\n",
              "    animation:\n",
              "      spin 1s steps(1) infinite;\n",
              "  }\n",
              "\n",
              "  @keyframes spin {\n",
              "    0% {\n",
              "      border-color: transparent;\n",
              "      border-bottom-color: var(--fill-color);\n",
              "      border-left-color: var(--fill-color);\n",
              "    }\n",
              "    20% {\n",
              "      border-color: transparent;\n",
              "      border-left-color: var(--fill-color);\n",
              "      border-top-color: var(--fill-color);\n",
              "    }\n",
              "    30% {\n",
              "      border-color: transparent;\n",
              "      border-left-color: var(--fill-color);\n",
              "      border-top-color: var(--fill-color);\n",
              "      border-right-color: var(--fill-color);\n",
              "    }\n",
              "    40% {\n",
              "      border-color: transparent;\n",
              "      border-right-color: var(--fill-color);\n",
              "      border-top-color: var(--fill-color);\n",
              "    }\n",
              "    60% {\n",
              "      border-color: transparent;\n",
              "      border-right-color: var(--fill-color);\n",
              "    }\n",
              "    80% {\n",
              "      border-color: transparent;\n",
              "      border-right-color: var(--fill-color);\n",
              "      border-bottom-color: var(--fill-color);\n",
              "    }\n",
              "    90% {\n",
              "      border-color: transparent;\n",
              "      border-bottom-color: var(--fill-color);\n",
              "    }\n",
              "  }\n",
              "</style>\n",
              "\n",
              "  <script>\n",
              "    async function quickchart(key) {\n",
              "      const quickchartButtonEl =\n",
              "        document.querySelector('#' + key + ' button');\n",
              "      quickchartButtonEl.disabled = true;  // To prevent multiple clicks.\n",
              "      quickchartButtonEl.classList.add('colab-df-spinner');\n",
              "      try {\n",
              "        const charts = await google.colab.kernel.invokeFunction(\n",
              "            'suggestCharts', [key], {});\n",
              "      } catch (error) {\n",
              "        console.error('Error during call to suggestCharts:', error);\n",
              "      }\n",
              "      quickchartButtonEl.classList.remove('colab-df-spinner');\n",
              "      quickchartButtonEl.classList.add('colab-df-quickchart-complete');\n",
              "    }\n",
              "    (() => {\n",
              "      let quickchartButtonEl =\n",
              "        document.querySelector('#df-a4ceae37-143a-4a93-9109-0973bc0ff435 button');\n",
              "      quickchartButtonEl.style.display =\n",
              "        google.colab.kernel.accessAllowed ? 'block' : 'none';\n",
              "    })();\n",
              "  </script>\n",
              "</div>\n",
              "    </div>\n",
              "  </div>\n"
            ],
            "application/vnd.google.colaboratory.intrinsic+json": {
              "type": "dataframe",
              "variable_name": "movies",
              "summary": "{\n  \"name\": \"movies\",\n  \"rows\": 8807,\n  \"fields\": [\n    {\n      \"column\": \"show_id\",\n      \"properties\": {\n        \"dtype\": \"string\",\n        \"num_unique_values\": 8807,\n        \"samples\": [\n          \"s4971\",\n          \"s3363\",\n          \"s5495\"\n        ],\n        \"semantic_type\": \"\",\n        \"description\": \"\"\n      }\n    },\n    {\n      \"column\": \"type\",\n      \"properties\": {\n        \"dtype\": \"category\",\n        \"num_unique_values\": 2,\n        \"samples\": [\n          \"TV Show\",\n          \"Movie\"\n        ],\n        \"semantic_type\": \"\",\n        \"description\": \"\"\n      }\n    },\n    {\n      \"column\": \"title\",\n      \"properties\": {\n        \"dtype\": \"string\",\n        \"num_unique_values\": 8807,\n        \"samples\": [\n          \"Game Over, Man!\",\n          \"Arsenio Hall: Smart & Classy\"\n        ],\n        \"semantic_type\": \"\",\n        \"description\": \"\"\n      }\n    },\n    {\n      \"column\": \"director\",\n      \"properties\": {\n        \"dtype\": \"string\",\n        \"num_unique_values\": 4528,\n        \"samples\": [\n          \"Kanwal Sethi\",\n          \"R\\u00e9my Four, Julien War\"\n        ],\n        \"semantic_type\": \"\",\n        \"description\": \"\"\n      }\n    },\n    {\n      \"column\": \"cast\",\n      \"properties\": {\n        \"dtype\": \"string\",\n        \"num_unique_values\": 7692,\n        \"samples\": [\n          \"Tzi Ma, Christine Ko, Hong-Chi Lee, Hayden Szeto, Kunjue Li, Fiona Fu, James Saito, Joan Chen\",\n          \"Priyanshu Painyuli, Chandrachoor Rai, Shadab Kamal, Rajeev Siddhartha, Sheetal Thakur, Ninad Kamat, Swati Semwal, Eijaz Khan\"\n        ],\n        \"semantic_type\": \"\",\n        \"description\": \"\"\n      }\n    },\n    {\n      \"column\": \"country\",\n      \"properties\": {\n        \"dtype\": \"category\",\n        \"num_unique_values\": 748,\n        \"samples\": [\n          \"United States, United Kingdom, Denmark, Sweden\",\n          \"United Kingdom, Hong Kong\"\n        ],\n        \"semantic_type\": \"\",\n        \"description\": \"\"\n      }\n    },\n    {\n      \"column\": \"date_added\",\n      \"properties\": {\n        \"dtype\": \"object\",\n        \"num_unique_values\": 1767,\n        \"samples\": [\n          \"October 22, 2018\",\n          \"January 29, 2021\"\n        ],\n        \"semantic_type\": \"\",\n        \"description\": \"\"\n      }\n    },\n    {\n      \"column\": \"release_year\",\n      \"properties\": {\n        \"dtype\": \"number\",\n        \"std\": 8,\n        \"min\": 1925,\n        \"max\": 2021,\n        \"num_unique_values\": 74,\n        \"samples\": [\n          1996,\n          1969\n        ],\n        \"semantic_type\": \"\",\n        \"description\": \"\"\n      }\n    },\n    {\n      \"column\": \"rating\",\n      \"properties\": {\n        \"dtype\": \"category\",\n        \"num_unique_values\": 17,\n        \"samples\": [\n          \"PG-13\",\n          \"TV-MA\"\n        ],\n        \"semantic_type\": \"\",\n        \"description\": \"\"\n      }\n    },\n    {\n      \"column\": \"duration\",\n      \"properties\": {\n        \"dtype\": \"category\",\n        \"num_unique_values\": 220,\n        \"samples\": [\n          \"37 min\",\n          \"177 min\"\n        ],\n        \"semantic_type\": \"\",\n        \"description\": \"\"\n      }\n    },\n    {\n      \"column\": \"listed_in\",\n      \"properties\": {\n        \"dtype\": \"category\",\n        \"num_unique_values\": 514,\n        \"samples\": [\n          \"Crime TV Shows, International TV Shows, TV Mysteries\",\n          \"Children & Family Movies, Classic Movies, Dramas\"\n        ],\n        \"semantic_type\": \"\",\n        \"description\": \"\"\n      }\n    },\n    {\n      \"column\": \"description\",\n      \"properties\": {\n        \"dtype\": \"string\",\n        \"num_unique_values\": 8775,\n        \"samples\": [\n          \"A heedless teen drifter who falls for a small-town waitress makes the mistake of robbing a drug lord, putting his life and newfound love in jeopardy.\",\n          \"Twelve-year-old Calvin manages to join the navy and serves in the battle of Guadalcanal. But when his age is revealed, the boy is sent to the brig.\"\n        ],\n        \"semantic_type\": \"\",\n        \"description\": \"\"\n      }\n    }\n  ]\n}"
            }
          },
          "metadata": {},
          "execution_count": 4
        }
      ]
    },
    {
      "cell_type": "markdown",
      "source": [
        "**Pre processing analysis**"
      ],
      "metadata": {
        "id": "NUsdNWdW1nKB"
      }
    },
    {
      "cell_type": "code",
      "source": [
        "movies.info(verbose='True')"
      ],
      "metadata": {
        "colab": {
          "base_uri": "https://localhost:8080/"
        },
        "id": "MQqoURti1p7o",
        "outputId": "fc5a38a6-7ea2-48d2-f8d1-fe25801cdbef"
      },
      "execution_count": 5,
      "outputs": [
        {
          "output_type": "stream",
          "name": "stdout",
          "text": [
            "<class 'pandas.core.frame.DataFrame'>\n",
            "RangeIndex: 8807 entries, 0 to 8806\n",
            "Data columns (total 12 columns):\n",
            " #   Column        Non-Null Count  Dtype \n",
            "---  ------        --------------  ----- \n",
            " 0   show_id       8807 non-null   object\n",
            " 1   type          8807 non-null   object\n",
            " 2   title         8807 non-null   object\n",
            " 3   director      6173 non-null   object\n",
            " 4   cast          7982 non-null   object\n",
            " 5   country       7976 non-null   object\n",
            " 6   date_added    8797 non-null   object\n",
            " 7   release_year  8807 non-null   int64 \n",
            " 8   rating        8803 non-null   object\n",
            " 9   duration      8804 non-null   object\n",
            " 10  listed_in     8807 non-null   object\n",
            " 11  description   8807 non-null   object\n",
            "dtypes: int64(1), object(11)\n",
            "memory usage: 825.8+ KB\n"
          ]
        }
      ]
    },
    {
      "cell_type": "markdown",
      "source": [
        "info() is used for summarizing the data frame.<br>\n",
        "It includes column name,data type, also tells if the column contains any null value or not"
      ],
      "metadata": {
        "id": "kwVGLxDF1_O_"
      }
    },
    {
      "cell_type": "code",
      "source": [
        "movies.describe()"
      ],
      "metadata": {
        "colab": {
          "base_uri": "https://localhost:8080/",
          "height": 300
        },
        "id": "Y-4RYyt03mp1",
        "outputId": "eedfac2c-fc45-453a-c4ac-767408c3c072"
      },
      "execution_count": 6,
      "outputs": [
        {
          "output_type": "execute_result",
          "data": {
            "text/plain": [
              "       release_year\n",
              "count   8807.000000\n",
              "mean    2014.180198\n",
              "std        8.819312\n",
              "min     1925.000000\n",
              "25%     2013.000000\n",
              "50%     2017.000000\n",
              "75%     2019.000000\n",
              "max     2021.000000"
            ],
            "text/html": [
              "\n",
              "  <div id=\"df-5869cbbc-2fae-4739-ae2e-a6cfa0d8bf5b\" class=\"colab-df-container\">\n",
              "    <div>\n",
              "<style scoped>\n",
              "    .dataframe tbody tr th:only-of-type {\n",
              "        vertical-align: middle;\n",
              "    }\n",
              "\n",
              "    .dataframe tbody tr th {\n",
              "        vertical-align: top;\n",
              "    }\n",
              "\n",
              "    .dataframe thead th {\n",
              "        text-align: right;\n",
              "    }\n",
              "</style>\n",
              "<table border=\"1\" class=\"dataframe\">\n",
              "  <thead>\n",
              "    <tr style=\"text-align: right;\">\n",
              "      <th></th>\n",
              "      <th>release_year</th>\n",
              "    </tr>\n",
              "  </thead>\n",
              "  <tbody>\n",
              "    <tr>\n",
              "      <th>count</th>\n",
              "      <td>8807.000000</td>\n",
              "    </tr>\n",
              "    <tr>\n",
              "      <th>mean</th>\n",
              "      <td>2014.180198</td>\n",
              "    </tr>\n",
              "    <tr>\n",
              "      <th>std</th>\n",
              "      <td>8.819312</td>\n",
              "    </tr>\n",
              "    <tr>\n",
              "      <th>min</th>\n",
              "      <td>1925.000000</td>\n",
              "    </tr>\n",
              "    <tr>\n",
              "      <th>25%</th>\n",
              "      <td>2013.000000</td>\n",
              "    </tr>\n",
              "    <tr>\n",
              "      <th>50%</th>\n",
              "      <td>2017.000000</td>\n",
              "    </tr>\n",
              "    <tr>\n",
              "      <th>75%</th>\n",
              "      <td>2019.000000</td>\n",
              "    </tr>\n",
              "    <tr>\n",
              "      <th>max</th>\n",
              "      <td>2021.000000</td>\n",
              "    </tr>\n",
              "  </tbody>\n",
              "</table>\n",
              "</div>\n",
              "    <div class=\"colab-df-buttons\">\n",
              "\n",
              "  <div class=\"colab-df-container\">\n",
              "    <button class=\"colab-df-convert\" onclick=\"convertToInteractive('df-5869cbbc-2fae-4739-ae2e-a6cfa0d8bf5b')\"\n",
              "            title=\"Convert this dataframe to an interactive table.\"\n",
              "            style=\"display:none;\">\n",
              "\n",
              "  <svg xmlns=\"http://www.w3.org/2000/svg\" height=\"24px\" viewBox=\"0 -960 960 960\">\n",
              "    <path d=\"M120-120v-720h720v720H120Zm60-500h600v-160H180v160Zm220 220h160v-160H400v160Zm0 220h160v-160H400v160ZM180-400h160v-160H180v160Zm440 0h160v-160H620v160ZM180-180h160v-160H180v160Zm440 0h160v-160H620v160Z\"/>\n",
              "  </svg>\n",
              "    </button>\n",
              "\n",
              "  <style>\n",
              "    .colab-df-container {\n",
              "      display:flex;\n",
              "      gap: 12px;\n",
              "    }\n",
              "\n",
              "    .colab-df-convert {\n",
              "      background-color: #E8F0FE;\n",
              "      border: none;\n",
              "      border-radius: 50%;\n",
              "      cursor: pointer;\n",
              "      display: none;\n",
              "      fill: #1967D2;\n",
              "      height: 32px;\n",
              "      padding: 0 0 0 0;\n",
              "      width: 32px;\n",
              "    }\n",
              "\n",
              "    .colab-df-convert:hover {\n",
              "      background-color: #E2EBFA;\n",
              "      box-shadow: 0px 1px 2px rgba(60, 64, 67, 0.3), 0px 1px 3px 1px rgba(60, 64, 67, 0.15);\n",
              "      fill: #174EA6;\n",
              "    }\n",
              "\n",
              "    .colab-df-buttons div {\n",
              "      margin-bottom: 4px;\n",
              "    }\n",
              "\n",
              "    [theme=dark] .colab-df-convert {\n",
              "      background-color: #3B4455;\n",
              "      fill: #D2E3FC;\n",
              "    }\n",
              "\n",
              "    [theme=dark] .colab-df-convert:hover {\n",
              "      background-color: #434B5C;\n",
              "      box-shadow: 0px 1px 3px 1px rgba(0, 0, 0, 0.15);\n",
              "      filter: drop-shadow(0px 1px 2px rgba(0, 0, 0, 0.3));\n",
              "      fill: #FFFFFF;\n",
              "    }\n",
              "  </style>\n",
              "\n",
              "    <script>\n",
              "      const buttonEl =\n",
              "        document.querySelector('#df-5869cbbc-2fae-4739-ae2e-a6cfa0d8bf5b button.colab-df-convert');\n",
              "      buttonEl.style.display =\n",
              "        google.colab.kernel.accessAllowed ? 'block' : 'none';\n",
              "\n",
              "      async function convertToInteractive(key) {\n",
              "        const element = document.querySelector('#df-5869cbbc-2fae-4739-ae2e-a6cfa0d8bf5b');\n",
              "        const dataTable =\n",
              "          await google.colab.kernel.invokeFunction('convertToInteractive',\n",
              "                                                    [key], {});\n",
              "        if (!dataTable) return;\n",
              "\n",
              "        const docLinkHtml = 'Like what you see? Visit the ' +\n",
              "          '<a target=\"_blank\" href=https://colab.research.google.com/notebooks/data_table.ipynb>data table notebook</a>'\n",
              "          + ' to learn more about interactive tables.';\n",
              "        element.innerHTML = '';\n",
              "        dataTable['output_type'] = 'display_data';\n",
              "        await google.colab.output.renderOutput(dataTable, element);\n",
              "        const docLink = document.createElement('div');\n",
              "        docLink.innerHTML = docLinkHtml;\n",
              "        element.appendChild(docLink);\n",
              "      }\n",
              "    </script>\n",
              "  </div>\n",
              "\n",
              "\n",
              "<div id=\"df-427249d1-bf52-4952-9a41-9845aec1f9c9\">\n",
              "  <button class=\"colab-df-quickchart\" onclick=\"quickchart('df-427249d1-bf52-4952-9a41-9845aec1f9c9')\"\n",
              "            title=\"Suggest charts\"\n",
              "            style=\"display:none;\">\n",
              "\n",
              "<svg xmlns=\"http://www.w3.org/2000/svg\" height=\"24px\"viewBox=\"0 0 24 24\"\n",
              "     width=\"24px\">\n",
              "    <g>\n",
              "        <path d=\"M19 3H5c-1.1 0-2 .9-2 2v14c0 1.1.9 2 2 2h14c1.1 0 2-.9 2-2V5c0-1.1-.9-2-2-2zM9 17H7v-7h2v7zm4 0h-2V7h2v10zm4 0h-2v-4h2v4z\"/>\n",
              "    </g>\n",
              "</svg>\n",
              "  </button>\n",
              "\n",
              "<style>\n",
              "  .colab-df-quickchart {\n",
              "      --bg-color: #E8F0FE;\n",
              "      --fill-color: #1967D2;\n",
              "      --hover-bg-color: #E2EBFA;\n",
              "      --hover-fill-color: #174EA6;\n",
              "      --disabled-fill-color: #AAA;\n",
              "      --disabled-bg-color: #DDD;\n",
              "  }\n",
              "\n",
              "  [theme=dark] .colab-df-quickchart {\n",
              "      --bg-color: #3B4455;\n",
              "      --fill-color: #D2E3FC;\n",
              "      --hover-bg-color: #434B5C;\n",
              "      --hover-fill-color: #FFFFFF;\n",
              "      --disabled-bg-color: #3B4455;\n",
              "      --disabled-fill-color: #666;\n",
              "  }\n",
              "\n",
              "  .colab-df-quickchart {\n",
              "    background-color: var(--bg-color);\n",
              "    border: none;\n",
              "    border-radius: 50%;\n",
              "    cursor: pointer;\n",
              "    display: none;\n",
              "    fill: var(--fill-color);\n",
              "    height: 32px;\n",
              "    padding: 0;\n",
              "    width: 32px;\n",
              "  }\n",
              "\n",
              "  .colab-df-quickchart:hover {\n",
              "    background-color: var(--hover-bg-color);\n",
              "    box-shadow: 0 1px 2px rgba(60, 64, 67, 0.3), 0 1px 3px 1px rgba(60, 64, 67, 0.15);\n",
              "    fill: var(--button-hover-fill-color);\n",
              "  }\n",
              "\n",
              "  .colab-df-quickchart-complete:disabled,\n",
              "  .colab-df-quickchart-complete:disabled:hover {\n",
              "    background-color: var(--disabled-bg-color);\n",
              "    fill: var(--disabled-fill-color);\n",
              "    box-shadow: none;\n",
              "  }\n",
              "\n",
              "  .colab-df-spinner {\n",
              "    border: 2px solid var(--fill-color);\n",
              "    border-color: transparent;\n",
              "    border-bottom-color: var(--fill-color);\n",
              "    animation:\n",
              "      spin 1s steps(1) infinite;\n",
              "  }\n",
              "\n",
              "  @keyframes spin {\n",
              "    0% {\n",
              "      border-color: transparent;\n",
              "      border-bottom-color: var(--fill-color);\n",
              "      border-left-color: var(--fill-color);\n",
              "    }\n",
              "    20% {\n",
              "      border-color: transparent;\n",
              "      border-left-color: var(--fill-color);\n",
              "      border-top-color: var(--fill-color);\n",
              "    }\n",
              "    30% {\n",
              "      border-color: transparent;\n",
              "      border-left-color: var(--fill-color);\n",
              "      border-top-color: var(--fill-color);\n",
              "      border-right-color: var(--fill-color);\n",
              "    }\n",
              "    40% {\n",
              "      border-color: transparent;\n",
              "      border-right-color: var(--fill-color);\n",
              "      border-top-color: var(--fill-color);\n",
              "    }\n",
              "    60% {\n",
              "      border-color: transparent;\n",
              "      border-right-color: var(--fill-color);\n",
              "    }\n",
              "    80% {\n",
              "      border-color: transparent;\n",
              "      border-right-color: var(--fill-color);\n",
              "      border-bottom-color: var(--fill-color);\n",
              "    }\n",
              "    90% {\n",
              "      border-color: transparent;\n",
              "      border-bottom-color: var(--fill-color);\n",
              "    }\n",
              "  }\n",
              "</style>\n",
              "\n",
              "  <script>\n",
              "    async function quickchart(key) {\n",
              "      const quickchartButtonEl =\n",
              "        document.querySelector('#' + key + ' button');\n",
              "      quickchartButtonEl.disabled = true;  // To prevent multiple clicks.\n",
              "      quickchartButtonEl.classList.add('colab-df-spinner');\n",
              "      try {\n",
              "        const charts = await google.colab.kernel.invokeFunction(\n",
              "            'suggestCharts', [key], {});\n",
              "      } catch (error) {\n",
              "        console.error('Error during call to suggestCharts:', error);\n",
              "      }\n",
              "      quickchartButtonEl.classList.remove('colab-df-spinner');\n",
              "      quickchartButtonEl.classList.add('colab-df-quickchart-complete');\n",
              "    }\n",
              "    (() => {\n",
              "      let quickchartButtonEl =\n",
              "        document.querySelector('#df-427249d1-bf52-4952-9a41-9845aec1f9c9 button');\n",
              "      quickchartButtonEl.style.display =\n",
              "        google.colab.kernel.accessAllowed ? 'block' : 'none';\n",
              "    })();\n",
              "  </script>\n",
              "</div>\n",
              "    </div>\n",
              "  </div>\n"
            ],
            "application/vnd.google.colaboratory.intrinsic+json": {
              "type": "dataframe",
              "summary": "{\n  \"name\": \"movies\",\n  \"rows\": 8,\n  \"fields\": [\n    {\n      \"column\": \"release_year\",\n      \"properties\": {\n        \"dtype\": \"number\",\n        \"std\": 2602.1161189684894,\n        \"min\": 8.819312130833966,\n        \"max\": 8807.0,\n        \"num_unique_values\": 8,\n        \"samples\": [\n          2014.1801975701146,\n          2017.0,\n          8807.0\n        ],\n        \"semantic_type\": \"\",\n        \"description\": \"\"\n      }\n    }\n  ]\n}"
            }
          },
          "metadata": {},
          "execution_count": 6
        }
      ]
    },
    {
      "cell_type": "markdown",
      "source": [
        "describe() is used to know about several statistical measures such as mean,median,standard deviation and many more.."
      ],
      "metadata": {
        "id": "dgFnvlMQ4cC8"
      }
    },
    {
      "cell_type": "code",
      "source": [
        "movies.isnull().sum()"
      ],
      "metadata": {
        "colab": {
          "base_uri": "https://localhost:8080/"
        },
        "id": "phWVeC2HGoTe",
        "outputId": "02e31ec9-2ff2-4008-e291-71c9a03a4a8d"
      },
      "execution_count": 7,
      "outputs": [
        {
          "output_type": "execute_result",
          "data": {
            "text/plain": [
              "show_id            0\n",
              "type               0\n",
              "title              0\n",
              "director        2634\n",
              "cast             825\n",
              "country          831\n",
              "date_added        10\n",
              "release_year       0\n",
              "rating             4\n",
              "duration           3\n",
              "listed_in          0\n",
              "description        0\n",
              "dtype: int64"
            ]
          },
          "metadata": {},
          "execution_count": 7
        }
      ]
    },
    {
      "cell_type": "markdown",
      "source": [
        "isnull().sum() is used to count the total number of null values"
      ],
      "metadata": {
        "id": "hPRgTtx7H9EC"
      }
    },
    {
      "cell_type": "code",
      "source": [
        "movies.shape"
      ],
      "metadata": {
        "colab": {
          "base_uri": "https://localhost:8080/"
        },
        "id": "11J7upblGaMr",
        "outputId": "d55257e9-bac9-4d63-e62c-c0db678c479f"
      },
      "execution_count": 8,
      "outputs": [
        {
          "output_type": "execute_result",
          "data": {
            "text/plain": [
              "(8807, 12)"
            ]
          },
          "metadata": {},
          "execution_count": 8
        }
      ]
    },
    {
      "cell_type": "markdown",
      "source": [
        "shape tells about the number of rows and columns"
      ],
      "metadata": {
        "id": "ikTKwUXVGy25"
      }
    },
    {
      "cell_type": "markdown",
      "source": [
        "**Data Processing**"
      ],
      "metadata": {
        "id": "L6un4HXMGV8y"
      }
    },
    {
      "cell_type": "code",
      "source": [
        "movies.columns"
      ],
      "metadata": {
        "colab": {
          "base_uri": "https://localhost:8080/"
        },
        "id": "ru4B153zIKlq",
        "outputId": "9d03dc7e-e94c-4cc1-92d1-0eaab98823d0"
      },
      "execution_count": 10,
      "outputs": [
        {
          "output_type": "execute_result",
          "data": {
            "text/plain": [
              "Index(['show_id', 'type', 'title', 'director', 'cast', 'country', 'date_added',\n",
              "       'release_year', 'rating', 'duration', 'listed_in', 'description'],\n",
              "      dtype='object')"
            ]
          },
          "metadata": {},
          "execution_count": 10
        }
      ]
    },
    {
      "cell_type": "markdown",
      "source": [
        ".columns is used to know about all the column names"
      ],
      "metadata": {
        "id": "V1_bklQxHAjN"
      }
    },
    {
      "cell_type": "code",
      "source": [
        "new_data=movies[['show_id','title','listed_in','description']]\n",
        "new_data"
      ],
      "metadata": {
        "colab": {
          "base_uri": "https://localhost:8080/",
          "height": 423
        },
        "id": "Jv4oGRTYIiiT",
        "outputId": "9995f8c9-33d9-443a-bbd1-c4f52111fa04"
      },
      "execution_count": 11,
      "outputs": [
        {
          "output_type": "execute_result",
          "data": {
            "text/plain": [
              "     show_id                  title  \\\n",
              "0         s1   Dick Johnson Is Dead   \n",
              "1         s2          Blood & Water   \n",
              "2         s3              Ganglands   \n",
              "3         s4  Jailbirds New Orleans   \n",
              "4         s5           Kota Factory   \n",
              "...      ...                    ...   \n",
              "8802   s8803                 Zodiac   \n",
              "8803   s8804            Zombie Dumb   \n",
              "8804   s8805             Zombieland   \n",
              "8805   s8806                   Zoom   \n",
              "8806   s8807                 Zubaan   \n",
              "\n",
              "                                              listed_in  \\\n",
              "0                                         Documentaries   \n",
              "1       International TV Shows, TV Dramas, TV Mysteries   \n",
              "2     Crime TV Shows, International TV Shows, TV Act...   \n",
              "3                                Docuseries, Reality TV   \n",
              "4     International TV Shows, Romantic TV Shows, TV ...   \n",
              "...                                                 ...   \n",
              "8802                     Cult Movies, Dramas, Thrillers   \n",
              "8803             Kids' TV, Korean TV Shows, TV Comedies   \n",
              "8804                            Comedies, Horror Movies   \n",
              "8805                 Children & Family Movies, Comedies   \n",
              "8806     Dramas, International Movies, Music & Musicals   \n",
              "\n",
              "                                            description  \n",
              "0     As her father nears the end of his life, filmm...  \n",
              "1     After crossing paths at a party, a Cape Town t...  \n",
              "2     To protect his family from a powerful drug lor...  \n",
              "3     Feuds, flirtations and toilet talk go down amo...  \n",
              "4     In a city of coaching centers known to train I...  \n",
              "...                                                 ...  \n",
              "8802  A political cartoonist, a crime reporter and a...  \n",
              "8803  While living alone in a spooky town, a young g...  \n",
              "8804  Looking to survive in a world taken over by zo...  \n",
              "8805  Dragged from civilian life, a former superhero...  \n",
              "8806  A scrappy but poor boy worms his way into a ty...  \n",
              "\n",
              "[8807 rows x 4 columns]"
            ],
            "text/html": [
              "\n",
              "  <div id=\"df-5e80d343-129e-4c40-8a68-3d5cbabd5e2c\" class=\"colab-df-container\">\n",
              "    <div>\n",
              "<style scoped>\n",
              "    .dataframe tbody tr th:only-of-type {\n",
              "        vertical-align: middle;\n",
              "    }\n",
              "\n",
              "    .dataframe tbody tr th {\n",
              "        vertical-align: top;\n",
              "    }\n",
              "\n",
              "    .dataframe thead th {\n",
              "        text-align: right;\n",
              "    }\n",
              "</style>\n",
              "<table border=\"1\" class=\"dataframe\">\n",
              "  <thead>\n",
              "    <tr style=\"text-align: right;\">\n",
              "      <th></th>\n",
              "      <th>show_id</th>\n",
              "      <th>title</th>\n",
              "      <th>listed_in</th>\n",
              "      <th>description</th>\n",
              "    </tr>\n",
              "  </thead>\n",
              "  <tbody>\n",
              "    <tr>\n",
              "      <th>0</th>\n",
              "      <td>s1</td>\n",
              "      <td>Dick Johnson Is Dead</td>\n",
              "      <td>Documentaries</td>\n",
              "      <td>As her father nears the end of his life, filmm...</td>\n",
              "    </tr>\n",
              "    <tr>\n",
              "      <th>1</th>\n",
              "      <td>s2</td>\n",
              "      <td>Blood &amp; Water</td>\n",
              "      <td>International TV Shows, TV Dramas, TV Mysteries</td>\n",
              "      <td>After crossing paths at a party, a Cape Town t...</td>\n",
              "    </tr>\n",
              "    <tr>\n",
              "      <th>2</th>\n",
              "      <td>s3</td>\n",
              "      <td>Ganglands</td>\n",
              "      <td>Crime TV Shows, International TV Shows, TV Act...</td>\n",
              "      <td>To protect his family from a powerful drug lor...</td>\n",
              "    </tr>\n",
              "    <tr>\n",
              "      <th>3</th>\n",
              "      <td>s4</td>\n",
              "      <td>Jailbirds New Orleans</td>\n",
              "      <td>Docuseries, Reality TV</td>\n",
              "      <td>Feuds, flirtations and toilet talk go down amo...</td>\n",
              "    </tr>\n",
              "    <tr>\n",
              "      <th>4</th>\n",
              "      <td>s5</td>\n",
              "      <td>Kota Factory</td>\n",
              "      <td>International TV Shows, Romantic TV Shows, TV ...</td>\n",
              "      <td>In a city of coaching centers known to train I...</td>\n",
              "    </tr>\n",
              "    <tr>\n",
              "      <th>...</th>\n",
              "      <td>...</td>\n",
              "      <td>...</td>\n",
              "      <td>...</td>\n",
              "      <td>...</td>\n",
              "    </tr>\n",
              "    <tr>\n",
              "      <th>8802</th>\n",
              "      <td>s8803</td>\n",
              "      <td>Zodiac</td>\n",
              "      <td>Cult Movies, Dramas, Thrillers</td>\n",
              "      <td>A political cartoonist, a crime reporter and a...</td>\n",
              "    </tr>\n",
              "    <tr>\n",
              "      <th>8803</th>\n",
              "      <td>s8804</td>\n",
              "      <td>Zombie Dumb</td>\n",
              "      <td>Kids' TV, Korean TV Shows, TV Comedies</td>\n",
              "      <td>While living alone in a spooky town, a young g...</td>\n",
              "    </tr>\n",
              "    <tr>\n",
              "      <th>8804</th>\n",
              "      <td>s8805</td>\n",
              "      <td>Zombieland</td>\n",
              "      <td>Comedies, Horror Movies</td>\n",
              "      <td>Looking to survive in a world taken over by zo...</td>\n",
              "    </tr>\n",
              "    <tr>\n",
              "      <th>8805</th>\n",
              "      <td>s8806</td>\n",
              "      <td>Zoom</td>\n",
              "      <td>Children &amp; Family Movies, Comedies</td>\n",
              "      <td>Dragged from civilian life, a former superhero...</td>\n",
              "    </tr>\n",
              "    <tr>\n",
              "      <th>8806</th>\n",
              "      <td>s8807</td>\n",
              "      <td>Zubaan</td>\n",
              "      <td>Dramas, International Movies, Music &amp; Musicals</td>\n",
              "      <td>A scrappy but poor boy worms his way into a ty...</td>\n",
              "    </tr>\n",
              "  </tbody>\n",
              "</table>\n",
              "<p>8807 rows × 4 columns</p>\n",
              "</div>\n",
              "    <div class=\"colab-df-buttons\">\n",
              "\n",
              "  <div class=\"colab-df-container\">\n",
              "    <button class=\"colab-df-convert\" onclick=\"convertToInteractive('df-5e80d343-129e-4c40-8a68-3d5cbabd5e2c')\"\n",
              "            title=\"Convert this dataframe to an interactive table.\"\n",
              "            style=\"display:none;\">\n",
              "\n",
              "  <svg xmlns=\"http://www.w3.org/2000/svg\" height=\"24px\" viewBox=\"0 -960 960 960\">\n",
              "    <path d=\"M120-120v-720h720v720H120Zm60-500h600v-160H180v160Zm220 220h160v-160H400v160Zm0 220h160v-160H400v160ZM180-400h160v-160H180v160Zm440 0h160v-160H620v160ZM180-180h160v-160H180v160Zm440 0h160v-160H620v160Z\"/>\n",
              "  </svg>\n",
              "    </button>\n",
              "\n",
              "  <style>\n",
              "    .colab-df-container {\n",
              "      display:flex;\n",
              "      gap: 12px;\n",
              "    }\n",
              "\n",
              "    .colab-df-convert {\n",
              "      background-color: #E8F0FE;\n",
              "      border: none;\n",
              "      border-radius: 50%;\n",
              "      cursor: pointer;\n",
              "      display: none;\n",
              "      fill: #1967D2;\n",
              "      height: 32px;\n",
              "      padding: 0 0 0 0;\n",
              "      width: 32px;\n",
              "    }\n",
              "\n",
              "    .colab-df-convert:hover {\n",
              "      background-color: #E2EBFA;\n",
              "      box-shadow: 0px 1px 2px rgba(60, 64, 67, 0.3), 0px 1px 3px 1px rgba(60, 64, 67, 0.15);\n",
              "      fill: #174EA6;\n",
              "    }\n",
              "\n",
              "    .colab-df-buttons div {\n",
              "      margin-bottom: 4px;\n",
              "    }\n",
              "\n",
              "    [theme=dark] .colab-df-convert {\n",
              "      background-color: #3B4455;\n",
              "      fill: #D2E3FC;\n",
              "    }\n",
              "\n",
              "    [theme=dark] .colab-df-convert:hover {\n",
              "      background-color: #434B5C;\n",
              "      box-shadow: 0px 1px 3px 1px rgba(0, 0, 0, 0.15);\n",
              "      filter: drop-shadow(0px 1px 2px rgba(0, 0, 0, 0.3));\n",
              "      fill: #FFFFFF;\n",
              "    }\n",
              "  </style>\n",
              "\n",
              "    <script>\n",
              "      const buttonEl =\n",
              "        document.querySelector('#df-5e80d343-129e-4c40-8a68-3d5cbabd5e2c button.colab-df-convert');\n",
              "      buttonEl.style.display =\n",
              "        google.colab.kernel.accessAllowed ? 'block' : 'none';\n",
              "\n",
              "      async function convertToInteractive(key) {\n",
              "        const element = document.querySelector('#df-5e80d343-129e-4c40-8a68-3d5cbabd5e2c');\n",
              "        const dataTable =\n",
              "          await google.colab.kernel.invokeFunction('convertToInteractive',\n",
              "                                                    [key], {});\n",
              "        if (!dataTable) return;\n",
              "\n",
              "        const docLinkHtml = 'Like what you see? Visit the ' +\n",
              "          '<a target=\"_blank\" href=https://colab.research.google.com/notebooks/data_table.ipynb>data table notebook</a>'\n",
              "          + ' to learn more about interactive tables.';\n",
              "        element.innerHTML = '';\n",
              "        dataTable['output_type'] = 'display_data';\n",
              "        await google.colab.output.renderOutput(dataTable, element);\n",
              "        const docLink = document.createElement('div');\n",
              "        docLink.innerHTML = docLinkHtml;\n",
              "        element.appendChild(docLink);\n",
              "      }\n",
              "    </script>\n",
              "  </div>\n",
              "\n",
              "\n",
              "<div id=\"df-f5bb5c92-3ff0-49e2-8def-670c8be5b0b4\">\n",
              "  <button class=\"colab-df-quickchart\" onclick=\"quickchart('df-f5bb5c92-3ff0-49e2-8def-670c8be5b0b4')\"\n",
              "            title=\"Suggest charts\"\n",
              "            style=\"display:none;\">\n",
              "\n",
              "<svg xmlns=\"http://www.w3.org/2000/svg\" height=\"24px\"viewBox=\"0 0 24 24\"\n",
              "     width=\"24px\">\n",
              "    <g>\n",
              "        <path d=\"M19 3H5c-1.1 0-2 .9-2 2v14c0 1.1.9 2 2 2h14c1.1 0 2-.9 2-2V5c0-1.1-.9-2-2-2zM9 17H7v-7h2v7zm4 0h-2V7h2v10zm4 0h-2v-4h2v4z\"/>\n",
              "    </g>\n",
              "</svg>\n",
              "  </button>\n",
              "\n",
              "<style>\n",
              "  .colab-df-quickchart {\n",
              "      --bg-color: #E8F0FE;\n",
              "      --fill-color: #1967D2;\n",
              "      --hover-bg-color: #E2EBFA;\n",
              "      --hover-fill-color: #174EA6;\n",
              "      --disabled-fill-color: #AAA;\n",
              "      --disabled-bg-color: #DDD;\n",
              "  }\n",
              "\n",
              "  [theme=dark] .colab-df-quickchart {\n",
              "      --bg-color: #3B4455;\n",
              "      --fill-color: #D2E3FC;\n",
              "      --hover-bg-color: #434B5C;\n",
              "      --hover-fill-color: #FFFFFF;\n",
              "      --disabled-bg-color: #3B4455;\n",
              "      --disabled-fill-color: #666;\n",
              "  }\n",
              "\n",
              "  .colab-df-quickchart {\n",
              "    background-color: var(--bg-color);\n",
              "    border: none;\n",
              "    border-radius: 50%;\n",
              "    cursor: pointer;\n",
              "    display: none;\n",
              "    fill: var(--fill-color);\n",
              "    height: 32px;\n",
              "    padding: 0;\n",
              "    width: 32px;\n",
              "  }\n",
              "\n",
              "  .colab-df-quickchart:hover {\n",
              "    background-color: var(--hover-bg-color);\n",
              "    box-shadow: 0 1px 2px rgba(60, 64, 67, 0.3), 0 1px 3px 1px rgba(60, 64, 67, 0.15);\n",
              "    fill: var(--button-hover-fill-color);\n",
              "  }\n",
              "\n",
              "  .colab-df-quickchart-complete:disabled,\n",
              "  .colab-df-quickchart-complete:disabled:hover {\n",
              "    background-color: var(--disabled-bg-color);\n",
              "    fill: var(--disabled-fill-color);\n",
              "    box-shadow: none;\n",
              "  }\n",
              "\n",
              "  .colab-df-spinner {\n",
              "    border: 2px solid var(--fill-color);\n",
              "    border-color: transparent;\n",
              "    border-bottom-color: var(--fill-color);\n",
              "    animation:\n",
              "      spin 1s steps(1) infinite;\n",
              "  }\n",
              "\n",
              "  @keyframes spin {\n",
              "    0% {\n",
              "      border-color: transparent;\n",
              "      border-bottom-color: var(--fill-color);\n",
              "      border-left-color: var(--fill-color);\n",
              "    }\n",
              "    20% {\n",
              "      border-color: transparent;\n",
              "      border-left-color: var(--fill-color);\n",
              "      border-top-color: var(--fill-color);\n",
              "    }\n",
              "    30% {\n",
              "      border-color: transparent;\n",
              "      border-left-color: var(--fill-color);\n",
              "      border-top-color: var(--fill-color);\n",
              "      border-right-color: var(--fill-color);\n",
              "    }\n",
              "    40% {\n",
              "      border-color: transparent;\n",
              "      border-right-color: var(--fill-color);\n",
              "      border-top-color: var(--fill-color);\n",
              "    }\n",
              "    60% {\n",
              "      border-color: transparent;\n",
              "      border-right-color: var(--fill-color);\n",
              "    }\n",
              "    80% {\n",
              "      border-color: transparent;\n",
              "      border-right-color: var(--fill-color);\n",
              "      border-bottom-color: var(--fill-color);\n",
              "    }\n",
              "    90% {\n",
              "      border-color: transparent;\n",
              "      border-bottom-color: var(--fill-color);\n",
              "    }\n",
              "  }\n",
              "</style>\n",
              "\n",
              "  <script>\n",
              "    async function quickchart(key) {\n",
              "      const quickchartButtonEl =\n",
              "        document.querySelector('#' + key + ' button');\n",
              "      quickchartButtonEl.disabled = true;  // To prevent multiple clicks.\n",
              "      quickchartButtonEl.classList.add('colab-df-spinner');\n",
              "      try {\n",
              "        const charts = await google.colab.kernel.invokeFunction(\n",
              "            'suggestCharts', [key], {});\n",
              "      } catch (error) {\n",
              "        console.error('Error during call to suggestCharts:', error);\n",
              "      }\n",
              "      quickchartButtonEl.classList.remove('colab-df-spinner');\n",
              "      quickchartButtonEl.classList.add('colab-df-quickchart-complete');\n",
              "    }\n",
              "    (() => {\n",
              "      let quickchartButtonEl =\n",
              "        document.querySelector('#df-f5bb5c92-3ff0-49e2-8def-670c8be5b0b4 button');\n",
              "      quickchartButtonEl.style.display =\n",
              "        google.colab.kernel.accessAllowed ? 'block' : 'none';\n",
              "    })();\n",
              "  </script>\n",
              "</div>\n",
              "    </div>\n",
              "  </div>\n"
            ],
            "application/vnd.google.colaboratory.intrinsic+json": {
              "type": "dataframe",
              "variable_name": "new_data",
              "summary": "{\n  \"name\": \"new_data\",\n  \"rows\": 8807,\n  \"fields\": [\n    {\n      \"column\": \"show_id\",\n      \"properties\": {\n        \"dtype\": \"string\",\n        \"num_unique_values\": 8807,\n        \"samples\": [\n          \"s4971\",\n          \"s3363\",\n          \"s5495\"\n        ],\n        \"semantic_type\": \"\",\n        \"description\": \"\"\n      }\n    },\n    {\n      \"column\": \"title\",\n      \"properties\": {\n        \"dtype\": \"string\",\n        \"num_unique_values\": 8807,\n        \"samples\": [\n          \"Game Over, Man!\",\n          \"Arsenio Hall: Smart & Classy\",\n          \"Kazoops!\"\n        ],\n        \"semantic_type\": \"\",\n        \"description\": \"\"\n      }\n    },\n    {\n      \"column\": \"listed_in\",\n      \"properties\": {\n        \"dtype\": \"category\",\n        \"num_unique_values\": 514,\n        \"samples\": [\n          \"Crime TV Shows, International TV Shows, TV Mysteries\",\n          \"Children & Family Movies, Classic Movies, Dramas\",\n          \"British TV Shows, TV Comedies, TV Dramas\"\n        ],\n        \"semantic_type\": \"\",\n        \"description\": \"\"\n      }\n    },\n    {\n      \"column\": \"description\",\n      \"properties\": {\n        \"dtype\": \"string\",\n        \"num_unique_values\": 8775,\n        \"samples\": [\n          \"A heedless teen drifter who falls for a small-town waitress makes the mistake of robbing a drug lord, putting his life and newfound love in jeopardy.\",\n          \"Twelve-year-old Calvin manages to join the navy and serves in the battle of Guadalcanal. But when his age is revealed, the boy is sent to the brig.\",\n          \"A single mother and her twin sons move into a rural house, unaware of its history of being inhabited by an evil spirit that preys upon young children.\"\n        ],\n        \"semantic_type\": \"\",\n        \"description\": \"\"\n      }\n    }\n  ]\n}"
            }
          },
          "metadata": {},
          "execution_count": 11
        }
      ]
    },
    {
      "cell_type": "code",
      "source": [
        "new_data.shape"
      ],
      "metadata": {
        "colab": {
          "base_uri": "https://localhost:8080/"
        },
        "id": "HJwO71MxJq4S",
        "outputId": "e80081a5-9349-4080-fbb4-d445ef336ae5"
      },
      "execution_count": 12,
      "outputs": [
        {
          "output_type": "execute_result",
          "data": {
            "text/plain": [
              "(8807, 4)"
            ]
          },
          "metadata": {},
          "execution_count": 12
        }
      ]
    },
    {
      "cell_type": "markdown",
      "source": [
        "shape is used to know about number of rows and columns"
      ],
      "metadata": {
        "id": "y2QiLJ69Ju6S"
      }
    },
    {
      "cell_type": "markdown",
      "source": [
        "**Training the model**"
      ],
      "metadata": {
        "id": "4raI_kw5HKi0"
      }
    },
    {
      "cell_type": "code",
      "source": [
        "from sklearn.model_selection import train_test_split\n",
        "x=new_data['title']\n",
        "y=new_data['listed_in']\n",
        "x_train,x_test,y_train,y_test=train_test_split(x,y,test_size=0.30,random_state=101)"
      ],
      "metadata": {
        "id": "fUCrVzCIHRT_"
      },
      "execution_count": 43,
      "outputs": []
    },
    {
      "cell_type": "markdown",
      "source": [
        "train_test_split is used to divide the data into training and testing data"
      ],
      "metadata": {
        "id": "SbfURYN3XouN"
      }
    },
    {
      "cell_type": "code",
      "source": [
        "x_train.shape,y_train.shape"
      ],
      "metadata": {
        "colab": {
          "base_uri": "https://localhost:8080/"
        },
        "id": "WmguOAs_KciN",
        "outputId": "162df484-f0fa-4049-afb3-94dccd2f0a37"
      },
      "execution_count": 31,
      "outputs": [
        {
          "output_type": "execute_result",
          "data": {
            "text/plain": [
              "((6164,), (6164,))"
            ]
          },
          "metadata": {},
          "execution_count": 31
        }
      ]
    },
    {
      "cell_type": "code",
      "source": [
        "x_test.shape,y_test.shape"
      ],
      "metadata": {
        "colab": {
          "base_uri": "https://localhost:8080/"
        },
        "id": "OiRUazHTKrzg",
        "outputId": "dbb435e1-02cc-4a6e-87dd-89031a166cd0"
      },
      "execution_count": 32,
      "outputs": [
        {
          "output_type": "execute_result",
          "data": {
            "text/plain": [
              "((2643,), (2643,))"
            ]
          },
          "metadata": {},
          "execution_count": 32
        }
      ]
    },
    {
      "cell_type": "markdown",
      "source": [
        "These are done in order to make sure that both x and y train and test data is divided equally"
      ],
      "metadata": {
        "id": "ZvY1FZOnX1GA"
      }
    },
    {
      "cell_type": "code",
      "source": [
        "from sklearn.preprocessing import LabelEncoder\n",
        "label_encoder=LabelEncoder()\n",
        "y_encoded=label_encoder.fit_transform(y_train)\n",
        "y_test_encoded=label_encoder.fit_transform(y_test)\n",
        "x_train_encoded=label_encoder.fit_transform(y_train)\n",
        "x_test_encoded=label_encoder.fit_transform(y_test)"
      ],
      "metadata": {
        "id": "0GJqP8QnMVNE"
      },
      "execution_count": 117,
      "outputs": []
    },
    {
      "cell_type": "markdown",
      "source": [
        "for knn model the data must be in float values.So we used label encoder and encoded the values"
      ],
      "metadata": {
        "id": "t5UE70xmYCfZ"
      }
    },
    {
      "cell_type": "code",
      "source": [
        "y_test_encoded.shape,y_test.shape"
      ],
      "metadata": {
        "colab": {
          "base_uri": "https://localhost:8080/"
        },
        "id": "xTEwS2AbRLJ4",
        "outputId": "d4d2f0ea-53e4-4590-deff-3822cea40415"
      },
      "execution_count": 118,
      "outputs": [
        {
          "output_type": "execute_result",
          "data": {
            "text/plain": [
              "((2643,), (2643,))"
            ]
          },
          "metadata": {},
          "execution_count": 118
        }
      ]
    },
    {
      "cell_type": "code",
      "source": [
        "x_test_encoded.shape,x_test.shape"
      ],
      "metadata": {
        "colab": {
          "base_uri": "https://localhost:8080/"
        },
        "id": "bUbo-UIvQPIn",
        "outputId": "9fc4e33a-345b-4d78-f2b0-a74e9ff4fab3"
      },
      "execution_count": 119,
      "outputs": [
        {
          "output_type": "execute_result",
          "data": {
            "text/plain": [
              "((2643,), (2643,))"
            ]
          },
          "metadata": {},
          "execution_count": 119
        }
      ]
    },
    {
      "cell_type": "markdown",
      "source": [
        "This is done to make sure that after encoding also the data shape is unchanged"
      ],
      "metadata": {
        "id": "Tc2syLj4YMjd"
      }
    },
    {
      "cell_type": "code",
      "source": [
        "x_train_reshaped = x_train_encoded.reshape(-1, 1)\n",
        "x_test_reshaped = x_test_encoded.reshape(-1, 1)"
      ],
      "metadata": {
        "id": "UUWLhUL4WrOa"
      },
      "execution_count": 125,
      "outputs": []
    },
    {
      "cell_type": "markdown",
      "source": [
        "We should make sure thatthe x part of knn.fit() is in 2D array format.So we used reshape to do this one"
      ],
      "metadata": {
        "id": "ZvfF757SYV-F"
      }
    },
    {
      "cell_type": "code",
      "source": [
        "#S2 Applying KNN classifier model\n",
        "from sklearn.neighbors import KNeighborsClassifier\n",
        "knn=KNeighborsClassifier(n_neighbors=3)\n",
        "knn.fit(x_train_reshaped,y_encoded)"
      ],
      "metadata": {
        "colab": {
          "base_uri": "https://localhost:8080/",
          "height": 74
        },
        "id": "dv9Q1OhbKNjZ",
        "outputId": "ad962155-008c-4252-ea91-44f443ea7202"
      },
      "execution_count": 121,
      "outputs": [
        {
          "output_type": "execute_result",
          "data": {
            "text/plain": [
              "KNeighborsClassifier(n_neighbors=3)"
            ],
            "text/html": [
              "<style>#sk-container-id-3 {color: black;background-color: white;}#sk-container-id-3 pre{padding: 0;}#sk-container-id-3 div.sk-toggleable {background-color: white;}#sk-container-id-3 label.sk-toggleable__label {cursor: pointer;display: block;width: 100%;margin-bottom: 0;padding: 0.3em;box-sizing: border-box;text-align: center;}#sk-container-id-3 label.sk-toggleable__label-arrow:before {content: \"▸\";float: left;margin-right: 0.25em;color: #696969;}#sk-container-id-3 label.sk-toggleable__label-arrow:hover:before {color: black;}#sk-container-id-3 div.sk-estimator:hover label.sk-toggleable__label-arrow:before {color: black;}#sk-container-id-3 div.sk-toggleable__content {max-height: 0;max-width: 0;overflow: hidden;text-align: left;background-color: #f0f8ff;}#sk-container-id-3 div.sk-toggleable__content pre {margin: 0.2em;color: black;border-radius: 0.25em;background-color: #f0f8ff;}#sk-container-id-3 input.sk-toggleable__control:checked~div.sk-toggleable__content {max-height: 200px;max-width: 100%;overflow: auto;}#sk-container-id-3 input.sk-toggleable__control:checked~label.sk-toggleable__label-arrow:before {content: \"▾\";}#sk-container-id-3 div.sk-estimator input.sk-toggleable__control:checked~label.sk-toggleable__label {background-color: #d4ebff;}#sk-container-id-3 div.sk-label input.sk-toggleable__control:checked~label.sk-toggleable__label {background-color: #d4ebff;}#sk-container-id-3 input.sk-hidden--visually {border: 0;clip: rect(1px 1px 1px 1px);clip: rect(1px, 1px, 1px, 1px);height: 1px;margin: -1px;overflow: hidden;padding: 0;position: absolute;width: 1px;}#sk-container-id-3 div.sk-estimator {font-family: monospace;background-color: #f0f8ff;border: 1px dotted black;border-radius: 0.25em;box-sizing: border-box;margin-bottom: 0.5em;}#sk-container-id-3 div.sk-estimator:hover {background-color: #d4ebff;}#sk-container-id-3 div.sk-parallel-item::after {content: \"\";width: 100%;border-bottom: 1px solid gray;flex-grow: 1;}#sk-container-id-3 div.sk-label:hover label.sk-toggleable__label {background-color: #d4ebff;}#sk-container-id-3 div.sk-serial::before {content: \"\";position: absolute;border-left: 1px solid gray;box-sizing: border-box;top: 0;bottom: 0;left: 50%;z-index: 0;}#sk-container-id-3 div.sk-serial {display: flex;flex-direction: column;align-items: center;background-color: white;padding-right: 0.2em;padding-left: 0.2em;position: relative;}#sk-container-id-3 div.sk-item {position: relative;z-index: 1;}#sk-container-id-3 div.sk-parallel {display: flex;align-items: stretch;justify-content: center;background-color: white;position: relative;}#sk-container-id-3 div.sk-item::before, #sk-container-id-3 div.sk-parallel-item::before {content: \"\";position: absolute;border-left: 1px solid gray;box-sizing: border-box;top: 0;bottom: 0;left: 50%;z-index: -1;}#sk-container-id-3 div.sk-parallel-item {display: flex;flex-direction: column;z-index: 1;position: relative;background-color: white;}#sk-container-id-3 div.sk-parallel-item:first-child::after {align-self: flex-end;width: 50%;}#sk-container-id-3 div.sk-parallel-item:last-child::after {align-self: flex-start;width: 50%;}#sk-container-id-3 div.sk-parallel-item:only-child::after {width: 0;}#sk-container-id-3 div.sk-dashed-wrapped {border: 1px dashed gray;margin: 0 0.4em 0.5em 0.4em;box-sizing: border-box;padding-bottom: 0.4em;background-color: white;}#sk-container-id-3 div.sk-label label {font-family: monospace;font-weight: bold;display: inline-block;line-height: 1.2em;}#sk-container-id-3 div.sk-label-container {text-align: center;}#sk-container-id-3 div.sk-container {/* jupyter's `normalize.less` sets `[hidden] { display: none; }` but bootstrap.min.css set `[hidden] { display: none !important; }` so we also need the `!important` here to be able to override the default hidden behavior on the sphinx rendered scikit-learn.org. See: https://github.com/scikit-learn/scikit-learn/issues/21755 */display: inline-block !important;position: relative;}#sk-container-id-3 div.sk-text-repr-fallback {display: none;}</style><div id=\"sk-container-id-3\" class=\"sk-top-container\"><div class=\"sk-text-repr-fallback\"><pre>KNeighborsClassifier(n_neighbors=3)</pre><b>In a Jupyter environment, please rerun this cell to show the HTML representation or trust the notebook. <br />On GitHub, the HTML representation is unable to render, please try loading this page with nbviewer.org.</b></div><div class=\"sk-container\" hidden><div class=\"sk-item\"><div class=\"sk-estimator sk-toggleable\"><input class=\"sk-toggleable__control sk-hidden--visually\" id=\"sk-estimator-id-3\" type=\"checkbox\" checked><label for=\"sk-estimator-id-3\" class=\"sk-toggleable__label sk-toggleable__label-arrow\">KNeighborsClassifier</label><div class=\"sk-toggleable__content\"><pre>KNeighborsClassifier(n_neighbors=3)</pre></div></div></div></div></div>"
            ]
          },
          "metadata": {},
          "execution_count": 121
        }
      ]
    },
    {
      "cell_type": "code",
      "source": [
        "pred = knn.predict(x_test_reshaped)"
      ],
      "metadata": {
        "id": "RJpn_Wl_Ouq6"
      },
      "execution_count": 122,
      "outputs": []
    },
    {
      "cell_type": "markdown",
      "source": [
        "**Evaluation of Data**"
      ],
      "metadata": {
        "id": "alvGGiMQOmEk"
      }
    },
    {
      "cell_type": "code",
      "source": [
        "from sklearn.metrics import classification_report,confusion_matrix\n",
        "conf_mat=confusion_matrix(y_test_encoded,pred)\n",
        "print(conf_mat)"
      ],
      "metadata": {
        "colab": {
          "base_uri": "https://localhost:8080/"
        },
        "id": "0jZGAbvjOQR2",
        "outputId": "57944dd8-5ee4-4014-bf89-180851d60194"
      },
      "execution_count": 129,
      "outputs": [
        {
          "output_type": "stream",
          "name": "stdout",
          "text": [
            "[[41  0  0 ...  0  0  0]\n",
            " [ 0  1  0 ...  0  0  0]\n",
            " [ 0  0  1 ...  0  0  0]\n",
            " ...\n",
            " [ 0  0  0 ...  2  0  0]\n",
            " [ 0  0  0 ...  0  3  0]\n",
            " [ 0  0  0 ...  0  0 24]]\n"
          ]
        }
      ]
    },
    {
      "cell_type": "markdown",
      "source": [
        "This confusion matrix summarizes the performance of model on a set of test data."
      ],
      "metadata": {
        "id": "p46qyptSnZaB"
      }
    },
    {
      "cell_type": "code",
      "source": [
        "print(classification_report(y_test_encoded,pred))"
      ],
      "metadata": {
        "colab": {
          "base_uri": "https://localhost:8080/"
        },
        "id": "kS9UgPdqnBHn",
        "outputId": "71df1674-bb1d-41f6-c44e-b5b552d2d3e3"
      },
      "execution_count": 126,
      "outputs": [
        {
          "output_type": "stream",
          "name": "stdout",
          "text": [
            "              precision    recall  f1-score   support\n",
            "\n",
            "           0       1.00      1.00      1.00        41\n",
            "           1       1.00      1.00      1.00         1\n",
            "           2       1.00      1.00      1.00         1\n",
            "           3       1.00      1.00      1.00        15\n",
            "           4       0.50      1.00      0.67         1\n",
            "           5       0.00      0.00      0.00         1\n",
            "           6       1.00      1.00      1.00         2\n",
            "           7       1.00      1.00      1.00         1\n",
            "           8       1.00      1.00      1.00         1\n",
            "           9       1.00      1.00      1.00         1\n",
            "          10       1.00      1.00      1.00         1\n",
            "          11       1.00      1.00      1.00         3\n",
            "          12       1.00      1.00      1.00         1\n",
            "          13       0.20      1.00      0.33         1\n",
            "          14       0.00      0.00      0.00         4\n",
            "          15       1.00      1.00      1.00         1\n",
            "          16       1.00      1.00      1.00        16\n",
            "          17       0.14      1.00      0.25         1\n",
            "          18       0.00      0.00      0.00         6\n",
            "          19       0.14      1.00      0.25         1\n",
            "          20       0.00      0.00      0.00         6\n",
            "          21       1.00      1.00      1.00        24\n",
            "          22       0.33      1.00      0.50         1\n",
            "          23       0.00      0.00      0.00         2\n",
            "          24       0.00      0.00      0.00         1\n",
            "          25       0.67      1.00      0.80         2\n",
            "          26       1.00      1.00      1.00         1\n",
            "          27       0.11      1.00      0.20         1\n",
            "          28       0.00      0.00      0.00         8\n",
            "          29       1.00      1.00      1.00         3\n",
            "          30       1.00      1.00      1.00        39\n",
            "          31       1.00      1.00      1.00         3\n",
            "          32       1.00      1.00      1.00         2\n",
            "          33       1.00      1.00      1.00         1\n",
            "          34       0.50      1.00      0.67         1\n",
            "          35       0.00      0.00      0.00         1\n",
            "          36       0.00      0.00      0.00         2\n",
            "          37       0.05      1.00      0.10         2\n",
            "          38       0.00      0.00      0.00        35\n",
            "          39       1.00      1.00      1.00         2\n",
            "          40       1.00      1.00      1.00         1\n",
            "          41       1.00      1.00      1.00         7\n",
            "          42       1.00      1.00      1.00         1\n",
            "          43       1.00      1.00      1.00         1\n",
            "          44       1.00      1.00      1.00         3\n",
            "          45       1.00      1.00      1.00         1\n",
            "          46       1.00      1.00      1.00        19\n",
            "          47       1.00      1.00      1.00         1\n",
            "          48       0.50      1.00      0.67         1\n",
            "          49       0.00      0.00      0.00         1\n",
            "          50       0.00      0.00      0.00         2\n",
            "          51       0.25      1.00      0.40         1\n",
            "          52       0.00      0.00      0.00         1\n",
            "          53       1.00      1.00      1.00         1\n",
            "          54       1.00      1.00      1.00         1\n",
            "          55       1.00      1.00      1.00         5\n",
            "          56       1.00      1.00      1.00         3\n",
            "          57       1.00      1.00      1.00        28\n",
            "          58       0.67      1.00      0.80         2\n",
            "          59       0.00      0.00      0.00         1\n",
            "          60       0.00      0.00      0.00         1\n",
            "          61       0.00      0.00      0.00         3\n",
            "          62       1.00      1.00      1.00         6\n",
            "          63       1.00      1.00      1.00         2\n",
            "          64       0.50      1.00      0.67         1\n",
            "          65       0.00      0.00      0.00         1\n",
            "          66       0.00      0.00      0.00         1\n",
            "          67       1.00      1.00      1.00         7\n",
            "          68       0.80      1.00      0.89         8\n",
            "          69       0.00      0.00      0.00         2\n",
            "          70       1.00      1.00      1.00         6\n",
            "          71       1.00      1.00      1.00        12\n",
            "          72       1.00      1.00      1.00        10\n",
            "          73       0.88      1.00      0.93         7\n",
            "          74       0.00      0.00      0.00         1\n",
            "          75       0.23      1.00      0.38         3\n",
            "          76       0.00      0.00      0.00        10\n",
            "          77       0.00      0.00      0.00         3\n",
            "          78       0.00      0.00      0.00         3\n",
            "          79       0.25      1.00      0.40         1\n",
            "          80       0.71      1.00      0.83         5\n",
            "          81       0.00      0.00      0.00         2\n",
            "          82       1.00      1.00      1.00         1\n",
            "          83       1.00      1.00      1.00        52\n",
            "          84       1.00      1.00      1.00         1\n",
            "          85       1.00      1.00      1.00         1\n",
            "          86       1.00      1.00      1.00        57\n",
            "          87       0.33      1.00      0.50         1\n",
            "          88       0.00      0.00      0.00         2\n",
            "          89       0.25      1.00      0.40         1\n",
            "          90       0.00      0.00      0.00         3\n",
            "          91       1.00      1.00      1.00         2\n",
            "          92       0.86      1.00      0.92         6\n",
            "          93       0.00      0.00      0.00         1\n",
            "          94       1.00      1.00      1.00         5\n",
            "          95       1.00      1.00      1.00         2\n",
            "          96       1.00      1.00      1.00         7\n",
            "          97       1.00      1.00      1.00         2\n",
            "          98       0.67      1.00      0.80         2\n",
            "          99       0.00      0.00      0.00         1\n",
            "         100       0.00      0.00      0.00         1\n",
            "         101       1.00      1.00      1.00         4\n",
            "         102       1.00      1.00      1.00         2\n",
            "         103       0.67      1.00      0.80         4\n",
            "         104       0.00      0.00      0.00         2\n",
            "         105       0.00      0.00      0.00         1\n",
            "         106       0.00      0.00      0.00         2\n",
            "         107       1.00      1.00      1.00         1\n",
            "         108       0.00      0.00      0.00         1\n",
            "         109       0.50      1.00      0.67         1\n",
            "         110       1.00      1.00      1.00         2\n",
            "         111       0.50      1.00      0.67         1\n",
            "         112       0.00      0.00      0.00         1\n",
            "         113       0.33      1.00      0.50         2\n",
            "         114       0.00      0.00      0.00         4\n",
            "         115       1.00      1.00      1.00         2\n",
            "         116       1.00      1.00      1.00         4\n",
            "         117       1.00      1.00      1.00         1\n",
            "         118       1.00      1.00      1.00         1\n",
            "         119       1.00      1.00      1.00         1\n",
            "         120       1.00      1.00      1.00        31\n",
            "         121       1.00      1.00      1.00         1\n",
            "         122       1.00      1.00      1.00         2\n",
            "         123       0.50      1.00      0.67         1\n",
            "         124       0.00      0.00      0.00         1\n",
            "         125       0.07      1.00      0.12         1\n",
            "         126       0.00      0.00      0.00        14\n",
            "         127       1.00      1.00      1.00         1\n",
            "         128       0.32      1.00      0.48        41\n",
            "         129       0.00      0.00      0.00        89\n",
            "         130       0.00      0.00      0.00         1\n",
            "         131       0.83      1.00      0.91         5\n",
            "         132       1.00      1.00      1.00         1\n",
            "         133       1.00      1.00      1.00         5\n",
            "         134       1.00      1.00      1.00         1\n",
            "         135       0.80      1.00      0.89         4\n",
            "         136       0.00      0.00      0.00         1\n",
            "         137       0.00      0.00      0.00         6\n",
            "         138       1.00      1.00      1.00         7\n",
            "         139       1.00      1.00      1.00         3\n",
            "         140       0.00      0.00      0.00         1\n",
            "         141       0.60      1.00      0.75         3\n",
            "         142       0.00      0.00      0.00         1\n",
            "         143       0.00      0.00      0.00        46\n",
            "         144       0.00      0.00      0.00        21\n",
            "         145       1.00      1.00      1.00        38\n",
            "         146       0.50      1.00      0.67         1\n",
            "         147       0.00      0.00      0.00         1\n",
            "         148       1.00      1.00      1.00        29\n",
            "         149       0.33      1.00      0.50         1\n",
            "         150       0.00      0.00      0.00         2\n",
            "         151       0.00      0.00      0.00        18\n",
            "         152       0.00      0.00      0.00         8\n",
            "         153       1.00      1.00      1.00         2\n",
            "         154       1.00      1.00      1.00         7\n",
            "         155       1.00      1.00      1.00         2\n",
            "         156       1.00      1.00      1.00        18\n",
            "         157       1.00      1.00      1.00         1\n",
            "         158       0.13      1.00      0.23         5\n",
            "         159       0.00      0.00      0.00        34\n",
            "         160       0.00      0.00      0.00         1\n",
            "         161       0.33      1.00      0.50         1\n",
            "         162       0.00      0.00      0.00         1\n",
            "         163       0.00      0.00      0.00         1\n",
            "         164       0.00      0.00      0.00         6\n",
            "         165       0.00      0.00      0.00         1\n",
            "         166       0.00      0.00      0.00         4\n",
            "         167       1.00      1.00      1.00         5\n",
            "         168       1.00      1.00      1.00         6\n",
            "         169       1.00      1.00      1.00         3\n",
            "         170       0.50      1.00      0.67         1\n",
            "         171       0.00      0.00      0.00         1\n",
            "         172       0.50      1.00      0.67         1\n",
            "         173       0.00      0.00      0.00         1\n",
            "         174       0.00      0.00      0.00       119\n",
            "         175       0.00      0.00      0.00         1\n",
            "         176       0.00      0.00      0.00         1\n",
            "         177       0.00      0.00      0.00         3\n",
            "         178       0.02      1.00      0.04         1\n",
            "         179       0.00      0.00      0.00        46\n",
            "         180       1.00      1.00      1.00        14\n",
            "         181       1.00      1.00      1.00        17\n",
            "         182       1.00      1.00      1.00         7\n",
            "         183       1.00      1.00      1.00         1\n",
            "         184       0.04      1.00      0.07         1\n",
            "         185       0.00      0.00      0.00        27\n",
            "         186       1.00      1.00      1.00        16\n",
            "         187       1.00      1.00      1.00        22\n",
            "         188       1.00      1.00      1.00        12\n",
            "         189       1.00      1.00      1.00         2\n",
            "         190       1.00      1.00      1.00         2\n",
            "         191       1.00      1.00      1.00         5\n",
            "         192       1.00      1.00      1.00         1\n",
            "         193       1.00      1.00      1.00         1\n",
            "         194       1.00      1.00      1.00        17\n",
            "         195       0.33      1.00      0.50         1\n",
            "         196       0.00      0.00      0.00         2\n",
            "         197       1.00      1.00      1.00         1\n",
            "         198       1.00      1.00      1.00         1\n",
            "         199       1.00      1.00      1.00        36\n",
            "         200       1.00      1.00      1.00         2\n",
            "         201       1.00      1.00      1.00         4\n",
            "         202       1.00      1.00      1.00         1\n",
            "         203       1.00      1.00      1.00         1\n",
            "         204       0.37      1.00      0.54        36\n",
            "         205       0.00      0.00      0.00        61\n",
            "         206       1.00      1.00      1.00         8\n",
            "         207       0.33      1.00      0.50         2\n",
            "         208       0.00      0.00      0.00         4\n",
            "         209       0.71      1.00      0.83         5\n",
            "         210       0.00      0.00      0.00         2\n",
            "         211       1.00      1.00      1.00         9\n",
            "         212       1.00      1.00      1.00       114\n",
            "         213       1.00      1.00      1.00         4\n",
            "         214       1.00      1.00      1.00        17\n",
            "         215       1.00      1.00      1.00        51\n",
            "         216       1.00      1.00      1.00         4\n",
            "         217       0.19      1.00      0.32        10\n",
            "         218       0.00      0.00      0.00        42\n",
            "         219       1.00      1.00      1.00         1\n",
            "         220       1.00      1.00      1.00         1\n",
            "         221       1.00      1.00      1.00         1\n",
            "         222       1.00      1.00      1.00        20\n",
            "         223       0.67      1.00      0.80         2\n",
            "         224       0.00      0.00      0.00         1\n",
            "         225       0.00      0.00      0.00         2\n",
            "         226       0.00      0.00      0.00         1\n",
            "         227       0.00      0.00      0.00         2\n",
            "         228       1.00      1.00      1.00         7\n",
            "         229       0.73      1.00      0.85        30\n",
            "         230       0.00      0.00      0.00        11\n",
            "         231       1.00      1.00      1.00         6\n",
            "         232       1.00      1.00      1.00         5\n",
            "         233       1.00      1.00      1.00         2\n",
            "         234       0.29      1.00      0.44         6\n",
            "         235       0.00      0.00      0.00        15\n",
            "         236       0.92      1.00      0.96        12\n",
            "         237       0.00      0.00      0.00         1\n",
            "         238       0.50      1.00      0.67         1\n",
            "         239       0.00      0.00      0.00         1\n",
            "         240       1.00      1.00      1.00        16\n",
            "         241       0.33      1.00      0.50         3\n",
            "         242       0.00      0.00      0.00         6\n",
            "         243       0.00      0.00      0.00         2\n",
            "         244       0.00      0.00      0.00         1\n",
            "         245       0.75      1.00      0.86         6\n",
            "         246       0.00      0.00      0.00         1\n",
            "         247       0.00      0.00      0.00         5\n",
            "         248       0.25      1.00      0.40         1\n",
            "         249       0.00      0.00      0.00         3\n",
            "         250       1.00      1.00      1.00        22\n",
            "         251       0.12      1.00      0.22         2\n",
            "         252       0.00      0.00      0.00        14\n",
            "         253       0.00      0.00      0.00         3\n",
            "         254       0.57      1.00      0.73         4\n",
            "         255       1.00      1.00      1.00         5\n",
            "         256       1.00      1.00      1.00        16\n",
            "         257       1.00      1.00      1.00         3\n",
            "         258       0.60      1.00      0.75         3\n",
            "         259       0.00      0.00      0.00         2\n",
            "         260       0.00      0.00      0.00         4\n",
            "         261       1.00      1.00      1.00        29\n",
            "         262       1.00      1.00      1.00        32\n",
            "         263       1.00      1.00      1.00         1\n",
            "         264       1.00      1.00      1.00         2\n",
            "         265       1.00      1.00      1.00         6\n",
            "         266       1.00      1.00      1.00        10\n",
            "         267       1.00      1.00      1.00         1\n",
            "         268       0.27      1.00      0.43         3\n",
            "         269       0.00      0.00      0.00         8\n",
            "         270       1.00      1.00      1.00         1\n",
            "         271       1.00      1.00      1.00         1\n",
            "         272       1.00      1.00      1.00         2\n",
            "         273       0.53      1.00      0.69        10\n",
            "         274       0.00      0.00      0.00         9\n",
            "         275       1.00      1.00      1.00         1\n",
            "         276       0.00      0.00      0.00        36\n",
            "         277       0.14      1.00      0.25         7\n",
            "         278       0.00      0.00      0.00         7\n",
            "         279       0.00      0.00      0.00         6\n",
            "         280       1.00      1.00      1.00         3\n",
            "         281       0.80      1.00      0.89         4\n",
            "         282       0.00      0.00      0.00         1\n",
            "         283       1.00      1.00      1.00        60\n",
            "         284       0.88      1.00      0.93         7\n",
            "         285       0.00      0.00      0.00         1\n",
            "         286       0.00      0.00      0.00         1\n",
            "         287       1.00      1.00      1.00         1\n",
            "         288       1.00      1.00      1.00         2\n",
            "         289       1.00      1.00      1.00         1\n",
            "         290       1.00      1.00      1.00         2\n",
            "         291       1.00      1.00      1.00        34\n",
            "         292       1.00      1.00      1.00         2\n",
            "         293       1.00      1.00      1.00         1\n",
            "         294       1.00      1.00      1.00         1\n",
            "         295       1.00      1.00      1.00         1\n",
            "         296       1.00      1.00      1.00         1\n",
            "         297       1.00      1.00      1.00        16\n",
            "         298       1.00      1.00      1.00         2\n",
            "         299       1.00      1.00      1.00         2\n",
            "         300       1.00      1.00      1.00        31\n",
            "         301       1.00      1.00      1.00         6\n",
            "         302       0.50      1.00      0.67         1\n",
            "         303       0.00      0.00      0.00         1\n",
            "         304       1.00      1.00      1.00         1\n",
            "         305       1.00      1.00      1.00         1\n",
            "         306       1.00      1.00      1.00         1\n",
            "         307       1.00      1.00      1.00         2\n",
            "         308       1.00      1.00      1.00         1\n",
            "         309       1.00      1.00      1.00         3\n",
            "         310       1.00      1.00      1.00         3\n",
            "         311       1.00      1.00      1.00         1\n",
            "         312       1.00      1.00      1.00       110\n",
            "         313       1.00      1.00      1.00         2\n",
            "         314       1.00      1.00      1.00         7\n",
            "         315       0.50      1.00      0.67         1\n",
            "         316       0.00      0.00      0.00         1\n",
            "         317       1.00      1.00      1.00         2\n",
            "         318       1.00      1.00      1.00         2\n",
            "         319       1.00      1.00      1.00         3\n",
            "         320       0.00      0.00      0.00         1\n",
            "         321       0.67      1.00      0.80         2\n",
            "         322       1.00      1.00      1.00        13\n",
            "         323       0.00      0.00      0.00         8\n",
            "         324       0.11      1.00      0.20         1\n",
            "         325       1.00      1.00      1.00         3\n",
            "         326       0.33      1.00      0.50         1\n",
            "         327       0.00      0.00      0.00         2\n",
            "         328       1.00      1.00      1.00        13\n",
            "         329       1.00      1.00      1.00         2\n",
            "         330       0.50      1.00      0.67         1\n",
            "         331       0.00      0.00      0.00         1\n",
            "         332       1.00      1.00      1.00         1\n",
            "         333       1.00      1.00      1.00         2\n",
            "         334       1.00      1.00      1.00         3\n",
            "         335       1.00      1.00      1.00        24\n",
            "\n",
            "    accuracy                           0.68      2643\n",
            "   macro avg       0.59      0.70      0.62      2643\n",
            "weighted avg       0.63      0.68      0.64      2643\n",
            "\n"
          ]
        },
        {
          "output_type": "stream",
          "name": "stderr",
          "text": [
            "/usr/local/lib/python3.10/dist-packages/sklearn/metrics/_classification.py:1344: UndefinedMetricWarning: Precision and F-score are ill-defined and being set to 0.0 in labels with no predicted samples. Use `zero_division` parameter to control this behavior.\n",
            "  _warn_prf(average, modifier, msg_start, len(result))\n",
            "/usr/local/lib/python3.10/dist-packages/sklearn/metrics/_classification.py:1344: UndefinedMetricWarning: Precision and F-score are ill-defined and being set to 0.0 in labels with no predicted samples. Use `zero_division` parameter to control this behavior.\n",
            "  _warn_prf(average, modifier, msg_start, len(result))\n",
            "/usr/local/lib/python3.10/dist-packages/sklearn/metrics/_classification.py:1344: UndefinedMetricWarning: Precision and F-score are ill-defined and being set to 0.0 in labels with no predicted samples. Use `zero_division` parameter to control this behavior.\n",
            "  _warn_prf(average, modifier, msg_start, len(result))\n"
          ]
        }
      ]
    },
    {
      "cell_type": "markdown",
      "source": [
        " This is the summary of the quality of classification made by the knn model"
      ],
      "metadata": {
        "id": "Y6e50pyDoBgy"
      }
    },
    {
      "cell_type": "code",
      "source": [
        "print('Misclassification Error Rate:',round(np.mean(pred!=y_test_encoded),3))"
      ],
      "metadata": {
        "colab": {
          "base_uri": "https://localhost:8080/"
        },
        "id": "dIoOeFY4RqGV",
        "outputId": "ba5597df-2e09-4d1f-ccd4-cd0584f3072b"
      },
      "execution_count": 127,
      "outputs": [
        {
          "output_type": "stream",
          "name": "stdout",
          "text": [
            "Misclassification Error Rate: 0.319\n"
          ]
        }
      ]
    },
    {
      "cell_type": "markdown",
      "source": [
        "Another method to know about error is by plotting the k elbow graph"
      ],
      "metadata": {
        "id": "FEu_9oaUmSa7"
      }
    },
    {
      "cell_type": "code",
      "source": [
        "error_rate=[]\n",
        "for i in range(1,90):\n",
        "  knn=KNeighborsClassifier(n_neighbors=i)\n",
        "  knn.fit(x_train_reshaped,y_encoded)\n",
        "  pred_i=knn.predict(x_test_reshaped)\n",
        "  error_rate.append(np.mean(pred_i!=y_test_encoded))"
      ],
      "metadata": {
        "id": "tJZhh48zbkx4"
      },
      "execution_count": 128,
      "outputs": []
    },
    {
      "cell_type": "code",
      "source": [
        "plt.figure(figsize=(10,6))\n",
        "plt.plot(range(1,90),error_rate,color='blue',linestyle='dashed',marker='o',markerfacecolor='red',markersize=5)\n",
        "plt.title('Error Rate vs K Value',fontsize=20)\n",
        "plt.xlabel('K',fontsize=15)\n",
        "plt.ylabel('Error(Misclassification) Rate',fontsize=15)"
      ],
      "metadata": {
        "colab": {
          "base_uri": "https://localhost:8080/",
          "height": 595
        },
        "id": "zR2Tfht1b-dU",
        "outputId": "7b8c59d9-52d6-4698-c53f-fcc0043cf803"
      },
      "execution_count": 130,
      "outputs": [
        {
          "output_type": "execute_result",
          "data": {
            "text/plain": [
              "Text(0, 0.5, 'Error(Misclassification) Rate')"
            ]
          },
          "metadata": {},
          "execution_count": 130
        },
        {
          "output_type": "display_data",
          "data": {
            "text/plain": [
              "<Figure size 1000x600 with 1 Axes>"
            ],
            "image/png": "[encoded data removed]"
          },
          "metadata": {}
        }
      ]
    }
  ]
}